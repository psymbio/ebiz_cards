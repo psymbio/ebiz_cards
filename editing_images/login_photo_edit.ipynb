{
 "cells": [
  {
   "cell_type": "code",
   "execution_count": 1,
   "id": "2f6dd6ee-c820-40f6-b146-eab8479bab18",
   "metadata": {},
   "outputs": [],
   "source": [
    "from PIL import Image\n",
    "import numpy as np\n",
    "\n",
    "# Load AVIF image\n",
    "image_path = \"../public/login.jpg\"\n",
    "image = Image.open(image_path).convert(\"RGBA\")  # Ensure transparency is considered\n",
    "\n",
    "# Convert image to NumPy array\n",
    "image_array = np.array(image)"
   ]
  },
  {
   "cell_type": "code",
   "execution_count": 2,
   "id": "f577a773-bbc4-4fb7-98a6-057df59dfdbf",
   "metadata": {},
   "outputs": [],
   "source": [
    "green_channel = image_array[:, :, 1]\n",
    "mask = (green_channel > 30) & (green_channel < 240)\n",
    "\n",
    "# Replace those pixels with black (0, 0, 0, 255)\n",
    "image_array[mask] = [201, 57, 38, 255]"
   ]
  },
  {
   "cell_type": "code",
   "execution_count": 4,
   "id": "17c50fc7-35cb-48a0-a09c-14e688b7e124",
   "metadata": {},
   "outputs": [],
   "source": [
    "blue_channel = image_array[:, :, 2]\n",
    "mask = (blue_channel > 100) & (blue_channel < 240)\n",
    "\n",
    "# Replace those pixels with black (0, 0, 0, 255)\n",
    "image_array[mask] = [0, 0, 0, 255]\n",
    "\n",
    "new_image = Image.fromarray(image_array)\n",
    "\n",
    "# Convert to RGB before saving as JPEG\n",
    "new_image.convert(\"RGB\").save(\"output.jpg\")\n",
    "\n",
    "# Show the modified image\n",
    "new_image.show()"
   ]
  },
  {
   "cell_type": "raw",
   "id": "c1d066e1-c131-452d-a838-dc7d4912cbf4",
   "metadata": {},
   "source": [
    "# Reshape to a list of pixels\n",
    "pixels = image_array.reshape(-1, image_array.shape[-1])\n",
    "\n",
    "# Get unique colors\n",
    "unique_colors = np.unique(pixels, axis=0)\n",
    "\n",
    "# Print all unique colors\n",
    "print(\"Unique colors in image (RGBA format):\")\n",
    "for color in unique_colors:\n",
    "    print(tuple(color))"
   ]
  }
 ],
 "metadata": {
  "kernelspec": {
   "display_name": "Python 3 (ipykernel)",
   "language": "python",
   "name": "python3"
  },
  "language_info": {
   "codemirror_mode": {
    "name": "ipython",
    "version": 3
   },
   "file_extension": ".py",
   "mimetype": "text/x-python",
   "name": "python",
   "nbconvert_exporter": "python",
   "pygments_lexer": "ipython3",
   "version": "3.10.14"
  }
 },
 "nbformat": 4,
 "nbformat_minor": 5
}
